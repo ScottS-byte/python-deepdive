{
 "cells": [
  {
   "cell_type": "code",
   "execution_count": 9,
   "id": "8ca69335-b836-4070-8eb9-6e04858dd7fb",
   "metadata": {},
   "outputs": [],
   "source": [
    "a, b = 10, 20"
   ]
  },
  {
   "cell_type": "code",
   "execution_count": 10,
   "id": "be3dd658-93da-4c76-b1d8-db3e6c40883a",
   "metadata": {},
   "outputs": [
    {
     "data": {
      "text/plain": [
       "10"
      ]
     },
     "execution_count": 10,
     "metadata": {},
     "output_type": "execute_result"
    }
   ],
   "source": [
    "a"
   ]
  },
  {
   "cell_type": "code",
   "execution_count": 11,
   "id": "622d4e8e-a7e4-452a-8278-7f008a110a9c",
   "metadata": {},
   "outputs": [
    {
     "data": {
      "text/plain": [
       "20"
      ]
     },
     "execution_count": 11,
     "metadata": {},
     "output_type": "execute_result"
    }
   ],
   "source": [
    "b"
   ]
  },
  {
   "cell_type": "code",
   "execution_count": 12,
   "id": "5527c7f6-cf84-4d7a-9e09-3db504e24c22",
   "metadata": {},
   "outputs": [],
   "source": [
    "tmp = a"
   ]
  },
  {
   "cell_type": "code",
   "execution_count": 13,
   "id": "9ccd01f9-c625-4c02-b763-eecc6393b424",
   "metadata": {},
   "outputs": [],
   "source": [
    "a=b"
   ]
  },
  {
   "cell_type": "code",
   "execution_count": 14,
   "id": "05a64e6f-8f77-4068-bd68-04a44ce09f35",
   "metadata": {},
   "outputs": [],
   "source": [
    "b=tmp"
   ]
  },
  {
   "cell_type": "code",
   "execution_count": 15,
   "id": "2a330b3c-05e1-4cf7-938e-764854f1c3dc",
   "metadata": {},
   "outputs": [
    {
     "data": {
      "text/plain": [
       "(20, 10)"
      ]
     },
     "execution_count": 15,
     "metadata": {},
     "output_type": "execute_result"
    }
   ],
   "source": [
    "a, b"
   ]
  },
  {
   "cell_type": "code",
   "execution_count": 16,
   "id": "2f5feae3-2a1b-4bd5-b0c7-9565135b734a",
   "metadata": {},
   "outputs": [],
   "source": [
    "a, b = b, a"
   ]
  },
  {
   "cell_type": "code",
   "execution_count": 17,
   "id": "f2bb774c-d3e4-46d4-9b0f-6f0e880d75ed",
   "metadata": {},
   "outputs": [
    {
     "data": {
      "text/plain": [
       "(10, 20)"
      ]
     },
     "execution_count": 17,
     "metadata": {},
     "output_type": "execute_result"
    }
   ],
   "source": [
    "a,b"
   ]
  }
 ],
 "metadata": {
  "kernelspec": {
   "display_name": "Python 3",
   "language": "python",
   "name": "python3"
  },
  "language_info": {
   "codemirror_mode": {
    "name": "ipython",
    "version": 3
   },
   "file_extension": ".py",
   "mimetype": "text/x-python",
   "name": "python",
   "nbconvert_exporter": "python",
   "pygments_lexer": "ipython3",
   "version": "3.13.2"
  }
 },
 "nbformat": 4,
 "nbformat_minor": 5
}
