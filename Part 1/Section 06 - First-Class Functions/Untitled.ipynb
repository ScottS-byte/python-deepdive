{
 "cells": [
  {
   "cell_type": "code",
   "execution_count": 1,
   "id": "635f5e2a-69cb-40f9-aafd-f9c8941fb6db",
   "metadata": {},
   "outputs": [],
   "source": [
    "import math"
   ]
  },
  {
   "cell_type": "code",
   "execution_count": 2,
   "id": "532ec1ef-a1a4-4b7d-bd3e-75cf3439fde1",
   "metadata": {},
   "outputs": [
    {
     "data": {
      "text/plain": [
       "<module 'math' from '/Library/Frameworks/Python.framework/Versions/3.13/lib/python3.13/lib-dynload/math.cpython-313-darwin.so'>"
      ]
     },
     "execution_count": 2,
     "metadata": {},
     "output_type": "execute_result"
    }
   ],
   "source": [
    "math"
   ]
  },
  {
   "cell_type": "code",
   "execution_count": 3,
   "id": "cf8eed42-74a6-4eab-b800-a86d7b4316e2",
   "metadata": {},
   "outputs": [],
   "source": [
    "import fractions"
   ]
  },
  {
   "cell_type": "code",
   "execution_count": 4,
   "id": "7524093c-08e5-49e5-86ac-e0162b1850c3",
   "metadata": {},
   "outputs": [
    {
     "data": {
      "text/plain": [
       "<module 'fractions' from '/Library/Frameworks/Python.framework/Versions/3.13/lib/python3.13/fractions.py'>"
      ]
     },
     "execution_count": 4,
     "metadata": {},
     "output_type": "execute_result"
    }
   ],
   "source": [
    "fractions"
   ]
  },
  {
   "cell_type": "code",
   "execution_count": 5,
   "id": "089a44e2-7c9b-44f8-a0c8-f15debd5e5f5",
   "metadata": {},
   "outputs": [
    {
     "data": {
      "text/plain": [
       "{'__name__': '__main__',\n",
       " '__doc__': 'Automatically created module for IPython interactive environment',\n",
       " '__package__': None,\n",
       " '__loader__': None,\n",
       " '__spec__': None,\n",
       " '__builtin__': <module 'builtins' (built-in)>,\n",
       " '__builtins__': <module 'builtins' (built-in)>,\n",
       " '_ih': ['',\n",
       "  'import math',\n",
       "  'math',\n",
       "  'import fractions',\n",
       "  'fractions',\n",
       "  'globals()'],\n",
       " '_oh': {2: <module 'math' from '/Library/Frameworks/Python.framework/Versions/3.13/lib/python3.13/lib-dynload/math.cpython-313-darwin.so'>,\n",
       "  4: <module 'fractions' from '/Library/Frameworks/Python.framework/Versions/3.13/lib/python3.13/fractions.py'>},\n",
       " '_dh': [PosixPath('/Users/ssanbeg/Library/CloudStorage/Dropbox/Projects/Python/python-deepdive/Part 1/Section 06 - First-Class Functions')],\n",
       " 'In': ['',\n",
       "  'import math',\n",
       "  'math',\n",
       "  'import fractions',\n",
       "  'fractions',\n",
       "  'globals()'],\n",
       " 'Out': {2: <module 'math' from '/Library/Frameworks/Python.framework/Versions/3.13/lib/python3.13/lib-dynload/math.cpython-313-darwin.so'>,\n",
       "  4: <module 'fractions' from '/Library/Frameworks/Python.framework/Versions/3.13/lib/python3.13/fractions.py'>},\n",
       " 'get_ipython': <bound method InteractiveShell.get_ipython of <ipykernel.zmqshell.ZMQInteractiveShell object at 0x10b273380>>,\n",
       " 'exit': <IPython.core.autocall.ZMQExitAutocall at 0x10b388980>,\n",
       " 'quit': <IPython.core.autocall.ZMQExitAutocall at 0x10b388980>,\n",
       " 'open': <function _io.open(file, mode='r', buffering=-1, encoding=None, errors=None, newline=None, closefd=True, opener=None)>,\n",
       " '_': <module 'fractions' from '/Library/Frameworks/Python.framework/Versions/3.13/lib/python3.13/fractions.py'>,\n",
       " '__': <module 'math' from '/Library/Frameworks/Python.framework/Versions/3.13/lib/python3.13/lib-dynload/math.cpython-313-darwin.so'>,\n",
       " '___': '',\n",
       " '__session__': '/Users/ssanbeg/Dropbox/Projects/Python/python-deepdive/Part 1/Section 06 - First-Class Functions/Untitled.ipynb',\n",
       " '_i': 'fractions',\n",
       " '_ii': 'import fractions',\n",
       " '_iii': 'math',\n",
       " '_i1': 'import math',\n",
       " 'math': <module 'math' from '/Library/Frameworks/Python.framework/Versions/3.13/lib/python3.13/lib-dynload/math.cpython-313-darwin.so'>,\n",
       " '_i2': 'math',\n",
       " '_2': <module 'math' from '/Library/Frameworks/Python.framework/Versions/3.13/lib/python3.13/lib-dynload/math.cpython-313-darwin.so'>,\n",
       " '_i3': 'import fractions',\n",
       " 'fractions': <module 'fractions' from '/Library/Frameworks/Python.framework/Versions/3.13/lib/python3.13/fractions.py'>,\n",
       " '_i4': 'fractions',\n",
       " '_4': <module 'fractions' from '/Library/Frameworks/Python.framework/Versions/3.13/lib/python3.13/fractions.py'>,\n",
       " '_i5': 'globals()'}"
      ]
     },
     "execution_count": 5,
     "metadata": {},
     "output_type": "execute_result"
    }
   ],
   "source": [
    "globals()"
   ]
  },
  {
   "cell_type": "code",
   "execution_count": null,
   "id": "bcde0ac2-8666-47b8-9ee0-af85da899b46",
   "metadata": {},
   "outputs": [],
   "source": []
  }
 ],
 "metadata": {
  "kernelspec": {
   "display_name": "Python 3 (ipykernel)",
   "language": "python",
   "name": "python3"
  },
  "language_info": {
   "codemirror_mode": {
    "name": "ipython",
    "version": 3
   },
   "file_extension": ".py",
   "mimetype": "text/x-python",
   "name": "python",
   "nbconvert_exporter": "python",
   "pygments_lexer": "ipython3",
   "version": "3.13.2"
  }
 },
 "nbformat": 4,
 "nbformat_minor": 5
}
